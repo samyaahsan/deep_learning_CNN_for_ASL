{
  "cells": [
    {
      "cell_type": "markdown",
      "metadata": {
        "id": "view-in-github",
        "colab_type": "text"
      },
      "source": [
        "<a href=\"https://colab.research.google.com/github/samyaahsan/deep_learning_CNN_for_ASL/blob/main/sign_language.ipynb\" target=\"_parent\"><img src=\"https://colab.research.google.com/assets/colab-badge.svg\" alt=\"Open In Colab\"/></a>"
      ]
    },
    {
      "cell_type": "markdown",
      "metadata": {
        "id": "5psZbp9VJifm"
      },
      "source": [
        "uni ska2138"
      ]
    },
    {
      "cell_type": "markdown",
      "metadata": {
        "_uuid": "385e43a763cf2a2e696526612151db7c079f8909",
        "id": "_KSFigbQx3ZB"
      },
      "source": [
        "# MNIST Sign Language"
      ]
    },
    {
      "cell_type": "code",
      "source": [
        "import keras"
      ],
      "metadata": {
        "id": "bbvCJa55mTRY"
      },
      "execution_count": null,
      "outputs": []
    },
    {
      "cell_type": "code",
      "execution_count": null,
      "metadata": {
        "_kg_hide-input": true,
        "_uuid": "bbcbb713210c674a54142d4ade11072985c94754",
        "id": "oYcaXwrdx3ZC"
      },
      "outputs": [],
      "source": [
        "import numpy as np\n",
        "import pandas as pd\n",
        "import matplotlib.pyplot as plt\n",
        "\n",
        "from sklearn.metrics         import accuracy_score\n",
        "from sklearn.model_selection import train_test_split\n",
        "\n",
        "from keras.utils  import to_categorical\n",
        "from keras.models import Sequential\n",
        "from tensorflow.keras import layers\n",
        "from keras.layers import Dense, Conv2D, MaxPooling2D, Flatten, Dropout"
      ]
    },
    {
      "cell_type": "code",
      "execution_count": null,
      "metadata": {
        "id": "0c3SrV8MQqWU"
      },
      "outputs": [],
      "source": [
        "class SignLanguage:\n",
        "    def __init__(self):\n",
        "        self.model = None\n",
        "        \n",
        "        self.data = {\n",
        "            \"train\": None,\n",
        "            \"test\" : None\n",
        "        }\n",
        "        self.create_model()\n",
        "    \n",
        "    def create_model(self):\n",
        "        input_shape = [28,28,1]\n",
        "        num_classes = 10\n",
        "\n",
        "        \"\"\"\n",
        "        Create a CNN model and save it to self.model\n",
        "        \"\"\"\n",
        "        \n",
        "        # TODO: Create a Sequential model\n",
        "        model = Sequential(\n",
        "            [\n",
        "              keras.Input(shape=input_shape),\n",
        "              layers.Conv2D(64, kernel_size=(3, 3), activation=\"relu\"),\n",
        "              layers.MaxPooling2D(pool_size=(2, 2)),\n",
        "              layers.Dropout(0.2),\n",
        "              layers.Conv2D(64, kernel_size=(3, 3), activation=\"relu\"),\n",
        "              layers.MaxPooling2D(pool_size=(2, 2)),\n",
        "              layers.Dropout(0.2),\n",
        "              layers.Conv2D(64, kernel_size=(3, 3), activation=\"relu\"),\n",
        "              layers.MaxPooling2D(pool_size=(2, 2)),\n",
        "              layers.Dropout(0.2),\n",
        "              layers.Flatten(),\n",
        "             \n",
        "              #model.add(Dense(1, activation='softmax'))\n",
        "              #layers.Dense(128, activation = \"relu\"),\n",
        "              #layers.Dropout(0.5),\n",
        "              layers.Dense(25, activation=\"softmax\"),\n",
        "            ]\n",
        "        )\n",
        "        # TODO: Compile the model with categorical_crossentropy\n",
        "        model.compile('adam', loss=keras.losses.categorical_crossentropy, metrics=['accuracy'])\n",
        "        \n",
        "        self.model = model\n",
        "        print(model.summary())\n",
        "        \n",
        "    \n",
        "    def prepare_data(self, images, labels):\n",
        "        \"\"\"\n",
        "        Use this method to normalize the dataset and split it into train/test.\n",
        "        Save your data in self.data[\"train\"] and self.data[\"test\"] as a tuple\n",
        "        of (images, labels)\n",
        "        \n",
        "        :param images numpy array of size (num_examples, 28*28)\n",
        "        :param labels numpy array of size (num_examples, )\n",
        "        \"\"\"\n",
        "        # TODO : split into training and validation set\n",
        "        # TODO : reshape each example into a 2D image (28, 28, 1)\n",
        "        input_shape = [28,28,1]\n",
        "        num_classes = 10\n",
        "        \n",
        "        #x_train, x_test, y_train, y_test = train_test_split(self.images, self.labels, test_size=0.2, random_state = 84)\n",
        "        #labels = keras.utils.to_categorical(labels) #!changed here -- one hot encoding\n",
        "        x_train, x_test, y_train, y_test = train_test_split(images, labels, test_size = 0.2, random_state = 84)\n",
        "        x_train, x_test = x_train/255, x_test/255 #is this how you normalize?\n",
        "        print(type(x_train))\n",
        "        x_train = x_train.reshape(x_train.shape[0], 28, 28, 1)\n",
        "        x_test = x_test.reshape(x_test.shape[0], 28, 28, 1)\n",
        "\n",
        "        #one hot encoding\n",
        "        y_train = to_categorical(y_train, num_classes = 25)\n",
        "        y_test = to_categorical(y_test, num_classes = 25)\n",
        "        \n",
        "\n",
        "\n",
        "\n",
        "        # train = pd.read_csv('/content/test.csv')\n",
        "        # test = pd.read_csv('/content/train.csv')\n",
        "        # y_train = train[\"label\"]\n",
        "        # y_test = test[\"label\"]\n",
        "        # del train[\"label\"]\n",
        "        # del test[\"label\"]\n",
        "        \n",
        "        self.data = {\n",
        "            \"train\": (x_train, y_train), # (x_train, y_train)\n",
        "            \"test\" : (x_test, y_test) # (x_test, y_test)\n",
        "        }\n",
        "    \n",
        "    \n",
        "    def train(self, batch_size:int=128, epochs:int=50, verbose:int=1):\n",
        "        \"\"\"\n",
        "        Use model.fit() to train your model. Make sure to return the history for a neat visualization.\n",
        "        \n",
        "        :param batch_size The batch size to use for training\n",
        "        :param epochs     Number of epochs to use for training\n",
        "        :param verbose    Whether or not to print training output\n",
        "        \"\"\"\n",
        "\n",
        "        \n",
        "        x_train = self.data[\"train\"][0]\n",
        "        print(\"x train shape:\" , x_train.shape)\n",
        "        y_train = self.data[\"train\"][1]\n",
        "        print(\"y train shape:\" , y_train.shape)\n",
        "\n",
        "        x_test = self.data[\"test\"][0]\n",
        "        print(\"x test shape:\" , x_test.shape)\n",
        "        y_test = self.data[\"test\"][1]\n",
        "        print(\"y test shape:\" , y_test.shape)\n",
        "      \n",
        "        history = self.model.fit(x_train, y_train, epochs=epochs, batch_size=batch_size, verbose=verbose)\n",
        "        return history\n",
        "\n",
        "        # history = model.fit(datagen.flow(x_train, y_train, batch_size = self.batch_size), epochs = self.epochs,\n",
        "        #                     validation_data = (x_test, y_test), verbose = self.verbose)\n",
        "\n",
        "    \n",
        "    def predict(self, data):\n",
        "        \"\"\"\n",
        "        Use the trained model to predict labels for test data.\n",
        "        \n",
        "        :param data: numpy array of test images\n",
        "        :return a numpy array of test labels. array size = (num_examples, )\n",
        "        \"\"\"\n",
        "        \n",
        "        # Don't forget to normalize the data in the same way as training data\n",
        "        # self.model.predict() and np.argmax( , axis=1) might help\n",
        "        #print(data)\n",
        "\n",
        "        # # x_test = self.data[\"test\"][0]\n",
        "        # # print(\"x test shape:\" , x_test.shape)\n",
        "        # # y_test = self.data[\"test\"][1]\n",
        "        # # print(\"y test shape:\" , y_test.shape)\n",
        "\n",
        "        # # x_test, y_test = x_test/255, y_test/255 #is this how you normalize?\n",
        "        # # x_test = x_test.reshape(x_test.shape[0], 28, 28, 1)\n",
        "        # # #y_test = y_test.reshape(y_test.shape[0], 28, 28, 1)\n",
        "\n",
        "        # x_test = self.data[\"test\"][0]\n",
        "        # y_test = self.data[\"test\"][1]\n",
        "\n",
        "        # x_test = x_test / 255\n",
        "        # y_test = y_test / 22\n",
        "\n",
        "        # x_test = x_test.reshape(x_test.shape[0], 28, 28, 1)\n",
        "        # y_test = y_test.reshape(y_test.shape[0], 28, 28, 1)\n",
        "        # # print(\"before shaping: \" , data.shape)\n",
        "        # # data = data.reshape(data.shape[0], 28, 28, 1)\n",
        "        # # print(\"after shaping: \", data.shape)\n",
        "\n",
        "        # x_test = self.data[\"test\"][0]\n",
        "        # print(\"x test shape:\" , x_test.shape)\n",
        "        # y_test = self.data[\"test\"][1]\n",
        "        # print(\"y test shape:\" , y_test.shape)\n",
        "\n",
        "\n",
        "        data = data / 255\n",
        "        data = data.reshape(data.shape[0], 28, 28, 1)\n",
        "        predict_x = self.model.predict(data)\n",
        "        x_classes = np.argmax(predict_x,axis=1)\n",
        "        return x_classes\n",
        "        #return np.zeros(data.shape[0])\n",
        "    \n",
        "    def visualize_data(self, data):\n",
        "        \"\"\"\n",
        "        Visualizing the hand gestures\n",
        "        \n",
        "        :param data: numpy array of images\n",
        "        \"\"\"\n",
        "        if data is None: return\n",
        "        \n",
        "        nrows, ncols = 5, 5\n",
        "        fig, axs = plt.subplots(nrows, ncols, figsize=(10, 10), sharex=True, sharey=True)\n",
        "        plt.subplots_adjust(wspace=0, hspace=0)\n",
        "\n",
        "        for i in range(nrows):\n",
        "            for j in range(ncols):\n",
        "                axs[i][j].imshow(data[0][i*ncols+j].reshape(28, 28), cmap='gray')\n",
        "        plt.show()\n",
        "\n",
        "    def visualize_accuracy(self, history):\n",
        "        \"\"\"\n",
        "        Plots out the accuracy measures given a keras history object\n",
        "        \n",
        "        :param history: return value from model.fit()\n",
        "        \"\"\"\n",
        "        if history is None: return\n",
        "        \n",
        "        plt.plot(history.history['accuracy'])\n",
        "        plt.plot(history.history['val_accuracy'])\n",
        "        plt.title(\"Accuracy\")\n",
        "        plt.xlabel('epoch')\n",
        "        plt.ylabel('accuracy')\n",
        "        plt.legend(['train','test'])\n",
        "        plt.show()\n"
      ]
    },
    {
      "cell_type": "code",
      "source": [],
      "metadata": {
        "id": "7lOPEsMv9PIF"
      },
      "execution_count": null,
      "outputs": []
    },
    {
      "cell_type": "markdown",
      "metadata": {
        "id": "3sFQekntgZqD"
      },
      "source": [
        "# Grading Script\n",
        "\n",
        "Do NOT modify this section"
      ]
    },
    {
      "cell_type": "code",
      "execution_count": null,
      "metadata": {
        "colab": {
          "base_uri": "https://localhost:8080/"
        },
        "id": "VGqVjg0VYpw5",
        "outputId": "ecae0c9c-b6c9-4fe4-d4c1-33a0daa68355"
      },
      "outputs": [
        {
          "output_type": "stream",
          "name": "stdout",
          "text": [
            "(27455, 784) (27455,) (7172, 784) (7172,)\n"
          ]
        }
      ],
      "source": [
        "if __name__==\"__main__\":\n",
        "    train = pd.read_csv('train.csv')\n",
        "    test  = pd.read_csv('test.csv')\n",
        "\n",
        "    train_labels, test_labels = train['label'].values, test['label'].values #gets labels (0 corresponding to A, 1 corresponding to B, etc.)\n",
        "    train.drop('label', axis=1, inplace=True)\n",
        "    test.drop('label', axis=1, inplace=True)\n",
        "\n",
        "    num_classes = test_labels.max() + 1\n",
        "    train_images, test_images = train.values, test.values\n",
        "\n",
        "    print(train_images.shape, train_labels.shape, test_images.shape, test_labels.shape)"
      ]
    },
    {
      "cell_type": "code",
      "execution_count": null,
      "metadata": {
        "colab": {
          "base_uri": "https://localhost:8080/"
        },
        "id": "bB40KEHwYpw6",
        "outputId": "c90bbe52-ed85-49cd-caf6-50e80ca7232a"
      },
      "outputs": [
        {
          "output_type": "stream",
          "name": "stdout",
          "text": [
            "Model: \"sequential_12\"\n",
            "_________________________________________________________________\n",
            " Layer (type)                Output Shape              Param #   \n",
            "=================================================================\n",
            " conv2d_36 (Conv2D)          (None, 26, 26, 64)        640       \n",
            "                                                                 \n",
            " max_pooling2d_36 (MaxPoolin  (None, 13, 13, 64)       0         \n",
            " g2D)                                                            \n",
            "                                                                 \n",
            " dropout (Dropout)           (None, 13, 13, 64)        0         \n",
            "                                                                 \n",
            " conv2d_37 (Conv2D)          (None, 11, 11, 64)        36928     \n",
            "                                                                 \n",
            " max_pooling2d_37 (MaxPoolin  (None, 5, 5, 64)         0         \n",
            " g2D)                                                            \n",
            "                                                                 \n",
            " dropout_1 (Dropout)         (None, 5, 5, 64)          0         \n",
            "                                                                 \n",
            " conv2d_38 (Conv2D)          (None, 3, 3, 64)          36928     \n",
            "                                                                 \n",
            " max_pooling2d_38 (MaxPoolin  (None, 1, 1, 64)         0         \n",
            " g2D)                                                            \n",
            "                                                                 \n",
            " dropout_2 (Dropout)         (None, 1, 1, 64)          0         \n",
            "                                                                 \n",
            " flatten_12 (Flatten)        (None, 64)                0         \n",
            "                                                                 \n",
            " dense_12 (Dense)            (None, 25)                1625      \n",
            "                                                                 \n",
            "=================================================================\n",
            "Total params: 76,121\n",
            "Trainable params: 76,121\n",
            "Non-trainable params: 0\n",
            "_________________________________________________________________\n",
            "None\n",
            "<class 'numpy.ndarray'>\n"
          ]
        }
      ],
      "source": [
        "if __name__==\"__main__\":\n",
        "    my_model = SignLanguage()\n",
        "    my_model.prepare_data(train_images, train_labels)"
      ]
    },
    {
      "cell_type": "code",
      "execution_count": null,
      "metadata": {
        "colab": {
          "base_uri": "https://localhost:8080/",
          "height": 594
        },
        "id": "52uourcEYpw6",
        "outputId": "a7bc436f-c563-40b8-c72c-56e6a9fe5ab4"
      },
      "outputs": [
        {
          "output_type": "display_data",
          "data": {
            "text/plain": [
              "<Figure size 720x720 with 25 Axes>"
            ],
            "image/png": "[encoded data removed]"
          },
          "metadata": {
            "needs_background": "light"
          }
        }
      ],
      "source": [
        "if __name__==\"__main__\":\n",
        "    my_model.visualize_data(my_model.data[\"train\"])"
      ]
    },
    {
      "cell_type": "code",
      "execution_count": null,
      "metadata": {
        "scrolled": false,
        "colab": {
          "base_uri": "https://localhost:8080/",
          "height": 1000
        },
        "id": "wPytnn8PYpw6",
        "outputId": "b0c49a40-c995-49c7-ae44-f70ffc067f0b"
      },
      "outputs": [
        {
          "output_type": "stream",
          "name": "stdout",
          "text": [
            "x train shape: (21964, 28, 28, 1)\n",
            "y train shape: (21964, 25)\n",
            "x test shape: (5491, 28, 28, 1)\n",
            "y test shape: (5491, 25)\n",
            "Epoch 1/30\n",
            "172/172 [==============================] - 2s 7ms/step - loss: 2.9111 - accuracy: 0.1222\n",
            "Epoch 2/30\n",
            "172/172 [==============================] - 1s 7ms/step - loss: 1.8135 - accuracy: 0.4236\n",
            "Epoch 3/30\n",
            "172/172 [==============================] - 1s 7ms/step - loss: 1.1925 - accuracy: 0.6124\n",
            "Epoch 4/30\n",
            "172/172 [==============================] - 1s 7ms/step - loss: 0.8842 - accuracy: 0.7058\n",
            "Epoch 5/30\n",
            "172/172 [==============================] - 1s 7ms/step - loss: 0.6972 - accuracy: 0.7640\n",
            "Epoch 6/30\n",
            "172/172 [==============================] - 1s 7ms/step - loss: 0.5753 - accuracy: 0.8042\n",
            "Epoch 7/30\n",
            "172/172 [==============================] - 1s 7ms/step - loss: 0.4704 - accuracy: 0.8396\n",
            "Epoch 8/30\n",
            "172/172 [==============================] - 1s 7ms/step - loss: 0.4028 - accuracy: 0.8635\n",
            "Epoch 9/30\n",
            "172/172 [==============================] - 1s 7ms/step - loss: 0.3513 - accuracy: 0.8789\n",
            "Epoch 10/30\n",
            "172/172 [==============================] - 1s 7ms/step - loss: 0.2994 - accuracy: 0.8998\n",
            "Epoch 11/30\n",
            "172/172 [==============================] - 1s 7ms/step - loss: 0.2716 - accuracy: 0.9107\n",
            "Epoch 12/30\n",
            "172/172 [==============================] - 1s 7ms/step - loss: 0.2451 - accuracy: 0.9183\n",
            "Epoch 13/30\n",
            "172/172 [==============================] - 1s 7ms/step - loss: 0.2197 - accuracy: 0.9259\n",
            "Epoch 14/30\n",
            "172/172 [==============================] - 1s 7ms/step - loss: 0.2050 - accuracy: 0.9306\n",
            "Epoch 15/30\n",
            "172/172 [==============================] - 1s 7ms/step - loss: 0.1862 - accuracy: 0.9388\n",
            "Epoch 16/30\n",
            "172/172 [==============================] - 1s 7ms/step - loss: 0.1688 - accuracy: 0.9441\n",
            "Epoch 17/30\n",
            "172/172 [==============================] - 1s 7ms/step - loss: 0.1563 - accuracy: 0.9491\n",
            "Epoch 18/30\n",
            "172/172 [==============================] - 1s 7ms/step - loss: 0.1426 - accuracy: 0.9538\n",
            "Epoch 19/30\n",
            "172/172 [==============================] - 1s 7ms/step - loss: 0.1410 - accuracy: 0.9532\n",
            "Epoch 20/30\n",
            "172/172 [==============================] - 1s 7ms/step - loss: 0.1239 - accuracy: 0.9595\n",
            "Epoch 21/30\n",
            "172/172 [==============================] - 1s 7ms/step - loss: 0.1230 - accuracy: 0.9608\n",
            "Epoch 22/30\n",
            "172/172 [==============================] - 1s 7ms/step - loss: 0.1166 - accuracy: 0.9616\n",
            "Epoch 23/30\n",
            "172/172 [==============================] - 1s 7ms/step - loss: 0.1075 - accuracy: 0.9657\n",
            "Epoch 24/30\n",
            "172/172 [==============================] - 1s 7ms/step - loss: 0.1005 - accuracy: 0.9674\n",
            "Epoch 25/30\n",
            "172/172 [==============================] - 1s 7ms/step - loss: 0.0918 - accuracy: 0.9694\n",
            "Epoch 26/30\n",
            "172/172 [==============================] - 1s 7ms/step - loss: 0.0883 - accuracy: 0.9717\n",
            "Epoch 27/30\n",
            "172/172 [==============================] - 1s 7ms/step - loss: 0.0877 - accuracy: 0.9720\n",
            "Epoch 28/30\n",
            "172/172 [==============================] - 1s 7ms/step - loss: 0.0830 - accuracy: 0.9725\n",
            "Epoch 29/30\n",
            "172/172 [==============================] - 1s 7ms/step - loss: 0.0779 - accuracy: 0.9757\n",
            "Epoch 30/30\n",
            "172/172 [==============================] - 1s 7ms/step - loss: 0.0746 - accuracy: 0.9771\n"
          ]
        },
        {
          "output_type": "error",
          "ename": "KeyError",
          "evalue": "ignored",
          "traceback": [
            "\u001b[0;31m---------------------------------------------------------------------------\u001b[0m",
            "\u001b[0;31mKeyError\u001b[0m                                  Traceback (most recent call last)",
            "\u001b[0;32m<ipython-input-108-2f6793c93a68>\u001b[0m in \u001b[0;36m<module>\u001b[0;34m\u001b[0m\n\u001b[1;32m      1\u001b[0m \u001b[0;32mif\u001b[0m \u001b[0m__name__\u001b[0m\u001b[0;34m==\u001b[0m\u001b[0;34m\"__main__\"\u001b[0m\u001b[0;34m:\u001b[0m\u001b[0;34m\u001b[0m\u001b[0;34m\u001b[0m\u001b[0m\n\u001b[1;32m      2\u001b[0m     \u001b[0mhistory\u001b[0m \u001b[0;34m=\u001b[0m \u001b[0mmy_model\u001b[0m\u001b[0;34m.\u001b[0m\u001b[0mtrain\u001b[0m\u001b[0;34m(\u001b[0m\u001b[0mepochs\u001b[0m\u001b[0;34m=\u001b[0m\u001b[0;36m30\u001b[0m\u001b[0;34m,\u001b[0m \u001b[0mverbose\u001b[0m\u001b[0;34m=\u001b[0m\u001b[0;36m1\u001b[0m\u001b[0;34m)\u001b[0m\u001b[0;34m\u001b[0m\u001b[0;34m\u001b[0m\u001b[0m\n\u001b[0;32m----> 3\u001b[0;31m     \u001b[0mmy_model\u001b[0m\u001b[0;34m.\u001b[0m\u001b[0mvisualize_accuracy\u001b[0m\u001b[0;34m(\u001b[0m\u001b[0mhistory\u001b[0m\u001b[0;34m)\u001b[0m\u001b[0;34m\u001b[0m\u001b[0;34m\u001b[0m\u001b[0m\n\u001b[0m",
            "\u001b[0;32m<ipython-input-104-340e462fbf11>\u001b[0m in \u001b[0;36mvisualize_accuracy\u001b[0;34m(self, history)\u001b[0m\n\u001b[1;32m    186\u001b[0m \u001b[0;34m\u001b[0m\u001b[0m\n\u001b[1;32m    187\u001b[0m         \u001b[0mplt\u001b[0m\u001b[0;34m.\u001b[0m\u001b[0mplot\u001b[0m\u001b[0;34m(\u001b[0m\u001b[0mhistory\u001b[0m\u001b[0;34m.\u001b[0m\u001b[0mhistory\u001b[0m\u001b[0;34m[\u001b[0m\u001b[0;34m'accuracy'\u001b[0m\u001b[0;34m]\u001b[0m\u001b[0;34m)\u001b[0m\u001b[0;34m\u001b[0m\u001b[0;34m\u001b[0m\u001b[0m\n\u001b[0;32m--> 188\u001b[0;31m         \u001b[0mplt\u001b[0m\u001b[0;34m.\u001b[0m\u001b[0mplot\u001b[0m\u001b[0;34m(\u001b[0m\u001b[0mhistory\u001b[0m\u001b[0;34m.\u001b[0m\u001b[0mhistory\u001b[0m\u001b[0;34m[\u001b[0m\u001b[0;34m'val_accuracy'\u001b[0m\u001b[0;34m]\u001b[0m\u001b[0;34m)\u001b[0m\u001b[0;34m\u001b[0m\u001b[0;34m\u001b[0m\u001b[0m\n\u001b[0m\u001b[1;32m    189\u001b[0m         \u001b[0mplt\u001b[0m\u001b[0;34m.\u001b[0m\u001b[0mtitle\u001b[0m\u001b[0;34m(\u001b[0m\u001b[0;34m\"Accuracy\"\u001b[0m\u001b[0;34m)\u001b[0m\u001b[0;34m\u001b[0m\u001b[0;34m\u001b[0m\u001b[0m\n\u001b[1;32m    190\u001b[0m         \u001b[0mplt\u001b[0m\u001b[0;34m.\u001b[0m\u001b[0mxlabel\u001b[0m\u001b[0;34m(\u001b[0m\u001b[0;34m'epoch'\u001b[0m\u001b[0;34m)\u001b[0m\u001b[0;34m\u001b[0m\u001b[0;34m\u001b[0m\u001b[0m\n",
            "\u001b[0;31mKeyError\u001b[0m: 'val_accuracy'"
          ]
        },
        {
          "output_type": "display_data",
          "data": {
            "text/plain": [
              "<Figure size 432x288 with 1 Axes>"
            ],
            "image/png": "[encoded data removed]"
          },
          "metadata": {
            "needs_background": "light"
          }
        }
      ],
      "source": [
        "if __name__==\"__main__\":\n",
        "    history = my_model.train(epochs=30, verbose=1)\n",
        "    my_model.visualize_accuracy(history)"
      ]
    },
    {
      "cell_type": "code",
      "execution_count": null,
      "metadata": {
        "colab": {
          "base_uri": "https://localhost:8080/"
        },
        "id": "SSthbsGxm1-z",
        "outputId": "d931fc86-d8d4-490b-c3e9-3b6d26d7afbb"
      },
      "outputs": [
        {
          "output_type": "stream",
          "name": "stdout",
          "text": [
            "test images: (7172, 784)\n",
            "225/225 [==============================] - 0s 2ms/step\n",
            "0.9507808142777467\n"
          ]
        }
      ],
      "source": [
        "if __name__==\"__main__\":\n",
        "    print(\"test images:\" , test_images.shape)\n",
        "    y_pred = my_model.predict(test_images)\n",
        "    accuracy = accuracy_score(test_labels, y_pred)\n",
        "    print(accuracy)"
      ]
    }
  ],
  "metadata": {
    "accelerator": "GPU",
    "colab": {
      "provenance": [],
      "include_colab_link": true
    },
    "kernelspec": {
      "display_name": "Python 3",
      "name": "python3"
    },
    "language_info": {
      "name": "python"
    },
    "gpuClass": "standard"
  },
  "nbformat": 4,
  "nbformat_minor": 0
}