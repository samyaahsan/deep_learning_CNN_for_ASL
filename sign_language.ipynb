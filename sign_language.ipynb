{
  "cells": [
    {
      "cell_type": "markdown",
      "metadata": {
        "id": "view-in-github",
        "colab_type": "text"
      },
      "source": [
        "<a href=\"https://colab.research.google.com/github/samyaahsan/deep_learning_CNN_for_ASL/blob/main/sign_language.ipynb\" target=\"_parent\"><img src=\"https://colab.research.google.com/assets/colab-badge.svg\" alt=\"Open In Colab\"/></a>"
      ]
    },
    {
      "cell_type": "markdown",
      "metadata": {
        "id": "5psZbp9VJifm"
      },
      "source": [
        "UNI: ska2138\n",
        "Name: Samya Ahsan"
      ]
    },
    {
      "cell_type": "markdown",
      "metadata": {
        "_uuid": "385e43a763cf2a2e696526612151db7c079f8909",
        "id": "_KSFigbQx3ZB"
      },
      "source": [
        "# MNIST Sign Language"
      ]
    },
    {
      "cell_type": "code",
      "source": [
        "import keras"
      ],
      "metadata": {
        "id": "bbvCJa55mTRY"
      },
      "execution_count": null,
      "outputs": []
    },
    {
      "cell_type": "code",
      "execution_count": null,
      "metadata": {
        "_kg_hide-input": true,
        "_uuid": "bbcbb713210c674a54142d4ade11072985c94754",
        "id": "oYcaXwrdx3ZC"
      },
      "outputs": [],
      "source": [
        "import numpy as np\n",
        "import pandas as pd\n",
        "import matplotlib.pyplot as plt\n",
        "\n",
        "from sklearn.metrics         import accuracy_score\n",
        "from sklearn.model_selection import train_test_split\n",
        "\n",
        "from keras.utils  import to_categorical\n",
        "from keras.models import Sequential\n",
        "from tensorflow.keras import layers\n",
        "from keras.layers import Dense, Conv2D, MaxPooling2D, Flatten, Dropout"
      ]
    },
    {
      "cell_type": "code",
      "execution_count": null,
      "metadata": {
        "id": "0c3SrV8MQqWU"
      },
      "outputs": [],
      "source": [
        "class SignLanguage:\n",
        "    def __init__(self):\n",
        "        self.model = None\n",
        "        \n",
        "        self.data = {\n",
        "            \"train\": None,\n",
        "            \"test\" : None\n",
        "        }\n",
        "        self.create_model()\n",
        "    \n",
        "    def create_model(self):\n",
        "        input_shape = [28,28,1]\n",
        "        num_classes = 10\n",
        "\n",
        "        \"\"\"\n",
        "        Create a CNN model and save it to self.model\n",
        "        \"\"\"\n",
        "        \n",
        "        # TODO: Create a Sequential model\n",
        "        model = Sequential(\n",
        "            [\n",
        "              keras.Input(shape=input_shape),\n",
        "              layers.Conv2D(64, kernel_size=(3, 3), activation=\"relu\"),\n",
        "              layers.MaxPooling2D(pool_size=(2, 2)),\n",
        "              layers.Dropout(0.2),\n",
        "              layers.Conv2D(64, kernel_size=(3, 3), activation=\"relu\"),\n",
        "              layers.MaxPooling2D(pool_size=(2, 2)),\n",
        "              layers.Dropout(0.2),\n",
        "              layers.Conv2D(64, kernel_size=(3, 3), activation=\"relu\"),\n",
        "              layers.MaxPooling2D(pool_size=(2, 2)),\n",
        "              layers.Dropout(0.2),\n",
        "              layers.Flatten(),\n",
        "             \n",
        "              #model.add(Dense(1, activation='softmax'))\n",
        "              #layers.Dense(128, activation = \"relu\"),\n",
        "              #layers.Dropout(0.5),\n",
        "              layers.Dense(25, activation=\"softmax\"),\n",
        "            ]\n",
        "        )\n",
        "        # TODO: Compile the model with categorical_crossentropy\n",
        "        model.compile('adam', loss=keras.losses.categorical_crossentropy, metrics=['accuracy'])\n",
        "        \n",
        "        self.model = model\n",
        "        print(model.summary())\n",
        "        \n",
        "    \n",
        "    def prepare_data(self, images, labels):\n",
        "        \"\"\"\n",
        "        Use this method to normalize the dataset and split it into train/test.\n",
        "        Save your data in self.data[\"train\"] and self.data[\"test\"] as a tuple\n",
        "        of (images, labels)\n",
        "        \n",
        "        :param images numpy array of size (num_examples, 28*28)\n",
        "        :param labels numpy array of size (num_examples, )\n",
        "        \"\"\"\n",
        "        # TODO : split into training and validation set\n",
        "        # TODO : reshape each example into a 2D image (28, 28, 1)\n",
        "        input_shape = [28,28,1]\n",
        "        num_classes = 10\n",
        "        \n",
        "        #x_train, x_test, y_train, y_test = train_test_split(self.images, self.labels, test_size=0.2, random_state = 84)\n",
        "        #labels = keras.utils.to_categorical(labels) #!changed here -- one hot encoding\n",
        "        x_train, x_test, y_train, y_test = train_test_split(images, labels, test_size = 0.2, random_state = 84)\n",
        "        x_train, x_test = x_train/255, x_test/255 #is this how you normalize?\n",
        "        print(type(x_train))\n",
        "        x_train = x_train.reshape(x_train.shape[0], 28, 28, 1)\n",
        "        x_test = x_test.reshape(x_test.shape[0], 28, 28, 1)\n",
        "\n",
        "        #one hot encoding\n",
        "        y_train = to_categorical(y_train, num_classes = 25)\n",
        "        y_test = to_categorical(y_test, num_classes = 25)\n",
        "        \n",
        "\n",
        "\n",
        "\n",
        "        # train = pd.read_csv('/content/test.csv')\n",
        "        # test = pd.read_csv('/content/train.csv')\n",
        "        # y_train = train[\"label\"]\n",
        "        # y_test = test[\"label\"]\n",
        "        # del train[\"label\"]\n",
        "        # del test[\"label\"]\n",
        "        \n",
        "        self.data = {\n",
        "            \"train\": (x_train, y_train), # (x_train, y_train)\n",
        "            \"test\" : (x_test, y_test) # (x_test, y_test)\n",
        "        }\n",
        "    \n",
        "    \n",
        "    def train(self, batch_size:int=128, epochs:int=50, verbose:int=1):\n",
        "        \"\"\"\n",
        "        Use model.fit() to train your model. Make sure to return the history for a neat visualization.\n",
        "        \n",
        "        :param batch_size The batch size to use for training\n",
        "        :param epochs     Number of epochs to use for training\n",
        "        :param verbose    Whether or not to print training output\n",
        "        \"\"\"\n",
        "\n",
        "        \n",
        "        x_train = self.data[\"train\"][0]\n",
        "        print(\"x train shape:\" , x_train.shape)\n",
        "        y_train = self.data[\"train\"][1]\n",
        "        print(\"y train shape:\" , y_train.shape)\n",
        "\n",
        "        x_test = self.data[\"test\"][0]\n",
        "        print(\"x test shape:\" , x_test.shape)\n",
        "        y_test = self.data[\"test\"][1]\n",
        "        print(\"y test shape:\" , y_test.shape)\n",
        "      \n",
        "        history = self.model.fit(x_train, y_train, epochs=epochs, validation_data = (x_test, y_test), batch_size=batch_size, verbose=verbose)\n",
        "        return history\n",
        "\n",
        "        # history = model.fit(datagen.flow(x_train, y_train, batch_size = self.batch_size), epochs = self.epochs,\n",
        "        #                     validation_data = (x_test, y_test), verbose = self.verbose)\n",
        "\n",
        "    \n",
        "    def predict(self, data):\n",
        "        \"\"\"\n",
        "        Use the trained model to predict labels for test data.\n",
        "        \n",
        "        :param data: numpy array of test images\n",
        "        :return a numpy array of test labels. array size = (num_examples, )\n",
        "        \"\"\"\n",
        "        \n",
        "        # Don't forget to normalize the data in the same way as training data\n",
        "        # self.model.predict() and np.argmax( , axis=1) might help\n",
        "        #print(data)\n",
        "\n",
        "        # # x_test = self.data[\"test\"][0]\n",
        "        # # print(\"x test shape:\" , x_test.shape)\n",
        "        # # y_test = self.data[\"test\"][1]\n",
        "        # # print(\"y test shape:\" , y_test.shape)\n",
        "\n",
        "        # # x_test, y_test = x_test/255, y_test/255 #is this how you normalize?\n",
        "        # # x_test = x_test.reshape(x_test.shape[0], 28, 28, 1)\n",
        "        # # #y_test = y_test.reshape(y_test.shape[0], 28, 28, 1)\n",
        "\n",
        "        # x_test = self.data[\"test\"][0]\n",
        "        # y_test = self.data[\"test\"][1]\n",
        "\n",
        "        # x_test = x_test / 255\n",
        "        # y_test = y_test / 22\n",
        "\n",
        "        # x_test = x_test.reshape(x_test.shape[0], 28, 28, 1)\n",
        "        # y_test = y_test.reshape(y_test.shape[0], 28, 28, 1)\n",
        "        # # print(\"before shaping: \" , data.shape)\n",
        "        # # data = data.reshape(data.shape[0], 28, 28, 1)\n",
        "        # # print(\"after shaping: \", data.shape)\n",
        "\n",
        "        # x_test = self.data[\"test\"][0]\n",
        "        # print(\"x test shape:\" , x_test.shape)\n",
        "        # y_test = self.data[\"test\"][1]\n",
        "        # print(\"y test shape:\" , y_test.shape)\n",
        "\n",
        "\n",
        "        data = data / 255\n",
        "        data = data.reshape(data.shape[0], 28, 28, 1)\n",
        "        predict_x = self.model.predict(data)\n",
        "        x_classes = np.argmax(predict_x,axis=1)\n",
        "        return x_classes\n",
        "        #return np.zeros(data.shape[0])\n",
        "    \n",
        "    def visualize_data(self, data):\n",
        "        \"\"\"\n",
        "        Visualizing the hand gestures\n",
        "        \n",
        "        :param data: numpy array of images\n",
        "        \"\"\"\n",
        "        if data is None: return\n",
        "        \n",
        "        nrows, ncols = 5, 5\n",
        "        fig, axs = plt.subplots(nrows, ncols, figsize=(10, 10), sharex=True, sharey=True)\n",
        "        plt.subplots_adjust(wspace=0, hspace=0)\n",
        "\n",
        "        for i in range(nrows):\n",
        "            for j in range(ncols):\n",
        "                axs[i][j].imshow(data[0][i*ncols+j].reshape(28, 28), cmap='gray')\n",
        "        plt.show()\n",
        "\n",
        "    def visualize_accuracy(self, history):\n",
        "        \"\"\"\n",
        "        Plots out the accuracy measures given a keras history object\n",
        "        \n",
        "        :param history: return value from model.fit()\n",
        "        \"\"\"\n",
        "        if history is None: return\n",
        "        \n",
        "        plt.plot(history.history['accuracy'])\n",
        "        plt.plot(history.history['val_accuracy'])\n",
        "        plt.title(\"Accuracy\")\n",
        "        plt.xlabel('epoch')\n",
        "        plt.ylabel('accuracy')\n",
        "        plt.legend(['train','test'])\n",
        "        plt.show()\n"
      ]
    },
    {
      "cell_type": "code",
      "source": [],
      "metadata": {
        "id": "7lOPEsMv9PIF"
      },
      "execution_count": null,
      "outputs": []
    },
    {
      "cell_type": "markdown",
      "metadata": {
        "id": "3sFQekntgZqD"
      },
      "source": [
        "# Grading Script\n",
        "\n",
        "Do NOT modify this section"
      ]
    },
    {
      "cell_type": "code",
      "execution_count": null,
      "metadata": {
        "colab": {
          "base_uri": "https://localhost:8080/"
        },
        "id": "VGqVjg0VYpw5",
        "outputId": "1412df91-c2e2-4946-c4a1-2589d34bc8f5"
      },
      "outputs": [
        {
          "output_type": "stream",
          "name": "stdout",
          "text": [
            "(27455, 784) (27455,) (7172, 784) (7172,)\n"
          ]
        }
      ],
      "source": [
        "if __name__==\"__main__\":\n",
        "    train = pd.read_csv('train.csv')\n",
        "    test  = pd.read_csv('test.csv')\n",
        "\n",
        "    train_labels, test_labels = train['label'].values, test['label'].values #gets labels (0 corresponding to A, 1 corresponding to B, etc.)\n",
        "    train.drop('label', axis=1, inplace=True)\n",
        "    test.drop('label', axis=1, inplace=True)\n",
        "\n",
        "    num_classes = test_labels.max() + 1\n",
        "    train_images, test_images = train.values, test.values\n",
        "\n",
        "    print(train_images.shape, train_labels.shape, test_images.shape, test_labels.shape)"
      ]
    },
    {
      "cell_type": "code",
      "execution_count": null,
      "metadata": {
        "colab": {
          "base_uri": "https://localhost:8080/"
        },
        "id": "bB40KEHwYpw6",
        "outputId": "e1f8ac01-659c-453f-b85e-394a35408a2b"
      },
      "outputs": [
        {
          "output_type": "stream",
          "name": "stdout",
          "text": [
            "Model: \"sequential\"\n",
            "_________________________________________________________________\n",
            " Layer (type)                Output Shape              Param #   \n",
            "=================================================================\n",
            " conv2d (Conv2D)             (None, 26, 26, 64)        640       \n",
            "                                                                 \n",
            " max_pooling2d (MaxPooling2D  (None, 13, 13, 64)       0         \n",
            " )                                                               \n",
            "                                                                 \n",
            " dropout (Dropout)           (None, 13, 13, 64)        0         \n",
            "                                                                 \n",
            " conv2d_1 (Conv2D)           (None, 11, 11, 64)        36928     \n",
            "                                                                 \n",
            " max_pooling2d_1 (MaxPooling  (None, 5, 5, 64)         0         \n",
            " 2D)                                                             \n",
            "                                                                 \n",
            " dropout_1 (Dropout)         (None, 5, 5, 64)          0         \n",
            "                                                                 \n",
            " conv2d_2 (Conv2D)           (None, 3, 3, 64)          36928     \n",
            "                                                                 \n",
            " max_pooling2d_2 (MaxPooling  (None, 1, 1, 64)         0         \n",
            " 2D)                                                             \n",
            "                                                                 \n",
            " dropout_2 (Dropout)         (None, 1, 1, 64)          0         \n",
            "                                                                 \n",
            " flatten (Flatten)           (None, 64)                0         \n",
            "                                                                 \n",
            " dense (Dense)               (None, 25)                1625      \n",
            "                                                                 \n",
            "=================================================================\n",
            "Total params: 76,121\n",
            "Trainable params: 76,121\n",
            "Non-trainable params: 0\n",
            "_________________________________________________________________\n",
            "None\n",
            "<class 'numpy.ndarray'>\n"
          ]
        }
      ],
      "source": [
        "if __name__==\"__main__\":\n",
        "    my_model = SignLanguage()\n",
        "    my_model.prepare_data(train_images, train_labels)"
      ]
    },
    {
      "cell_type": "code",
      "execution_count": null,
      "metadata": {
        "colab": {
          "base_uri": "https://localhost:8080/",
          "height": 594
        },
        "id": "52uourcEYpw6",
        "outputId": "cd4f14df-92b8-41a7-ef75-8502561cbd4b"
      },
      "outputs": [
        {
          "output_type": "display_data",
          "data": {
            "text/plain": [
              "<Figure size 720x720 with 25 Axes>"
            ],
            "image/png": "[encoded data removed]"
          },
          "metadata": {
            "needs_background": "light"
          }
        }
      ],
      "source": [
        "if __name__==\"__main__\":\n",
        "    my_model.visualize_data(my_model.data[\"train\"])"
      ]
    },
    {
      "cell_type": "code",
      "execution_count": null,
      "metadata": {
        "scrolled": false,
        "colab": {
          "base_uri": "https://localhost:8080/",
          "height": 1000
        },
        "id": "wPytnn8PYpw6",
        "outputId": "622f36a6-9928-4d25-f198-fc26e85a813c"
      },
      "outputs": [
        {
          "output_type": "stream",
          "name": "stdout",
          "text": [
            "x train shape: (21964, 28, 28, 1)\n",
            "y train shape: (21964, 25)\n",
            "x test shape: (5491, 28, 28, 1)\n",
            "y test shape: (5491, 25)\n",
            "Epoch 1/30\n",
            "172/172 [==============================] - 10s 10ms/step - loss: 2.8677 - accuracy: 0.1433 - val_loss: 1.9440 - val_accuracy: 0.4265\n",
            "Epoch 2/30\n",
            "172/172 [==============================] - 2s 9ms/step - loss: 1.6258 - accuracy: 0.4750 - val_loss: 0.9139 - val_accuracy: 0.7512\n",
            "Epoch 3/30\n",
            "172/172 [==============================] - 1s 8ms/step - loss: 1.0304 - accuracy: 0.6552 - val_loss: 0.5551 - val_accuracy: 0.8514\n",
            "Epoch 4/30\n",
            "172/172 [==============================] - 1s 8ms/step - loss: 0.7363 - accuracy: 0.7577 - val_loss: 0.3735 - val_accuracy: 0.9171\n",
            "Epoch 5/30\n",
            "172/172 [==============================] - 1s 8ms/step - loss: 0.5786 - accuracy: 0.8096 - val_loss: 0.2662 - val_accuracy: 0.9423\n",
            "Epoch 6/30\n",
            "172/172 [==============================] - 1s 8ms/step - loss: 0.4773 - accuracy: 0.8422 - val_loss: 0.1822 - val_accuracy: 0.9679\n",
            "Epoch 7/30\n",
            "172/172 [==============================] - 1s 8ms/step - loss: 0.3862 - accuracy: 0.8729 - val_loss: 0.1428 - val_accuracy: 0.9774\n",
            "Epoch 8/30\n",
            "172/172 [==============================] - 1s 8ms/step - loss: 0.3275 - accuracy: 0.8923 - val_loss: 0.1057 - val_accuracy: 0.9836\n",
            "Epoch 9/30\n",
            "172/172 [==============================] - 1s 8ms/step - loss: 0.2798 - accuracy: 0.9113 - val_loss: 0.0793 - val_accuracy: 0.9887\n",
            "Epoch 10/30\n",
            "172/172 [==============================] - 1s 8ms/step - loss: 0.2457 - accuracy: 0.9184 - val_loss: 0.0677 - val_accuracy: 0.9911\n",
            "Epoch 11/30\n",
            "172/172 [==============================] - 1s 8ms/step - loss: 0.2139 - accuracy: 0.9291 - val_loss: 0.0524 - val_accuracy: 0.9914\n",
            "Epoch 12/30\n",
            "172/172 [==============================] - 2s 9ms/step - loss: 0.1922 - accuracy: 0.9370 - val_loss: 0.0421 - val_accuracy: 0.9929\n",
            "Epoch 13/30\n",
            "172/172 [==============================] - 1s 8ms/step - loss: 0.1736 - accuracy: 0.9422 - val_loss: 0.0321 - val_accuracy: 0.9964\n",
            "Epoch 14/30\n",
            "172/172 [==============================] - 1s 8ms/step - loss: 0.1570 - accuracy: 0.9495 - val_loss: 0.0273 - val_accuracy: 0.9975\n",
            "Epoch 15/30\n",
            "172/172 [==============================] - 1s 8ms/step - loss: 0.1408 - accuracy: 0.9536 - val_loss: 0.0195 - val_accuracy: 0.9980\n",
            "Epoch 16/30\n",
            "172/172 [==============================] - 1s 8ms/step - loss: 0.1290 - accuracy: 0.9585 - val_loss: 0.0168 - val_accuracy: 0.9987\n",
            "Epoch 17/30\n",
            "172/172 [==============================] - 1s 8ms/step - loss: 0.1207 - accuracy: 0.9606 - val_loss: 0.0147 - val_accuracy: 0.9993\n",
            "Epoch 18/30\n",
            "172/172 [==============================] - 1s 8ms/step - loss: 0.1113 - accuracy: 0.9638 - val_loss: 0.0142 - val_accuracy: 0.9993\n",
            "Epoch 19/30\n",
            "172/172 [==============================] - 1s 8ms/step - loss: 0.1033 - accuracy: 0.9672 - val_loss: 0.0094 - val_accuracy: 0.9996\n",
            "Epoch 20/30\n",
            "172/172 [==============================] - 1s 8ms/step - loss: 0.0952 - accuracy: 0.9686 - val_loss: 0.0086 - val_accuracy: 0.9996\n",
            "Epoch 21/30\n",
            "172/172 [==============================] - 1s 8ms/step - loss: 0.0926 - accuracy: 0.9706 - val_loss: 0.0063 - val_accuracy: 0.9996\n",
            "Epoch 22/30\n",
            "172/172 [==============================] - 1s 8ms/step - loss: 0.0854 - accuracy: 0.9723 - val_loss: 0.0088 - val_accuracy: 0.9995\n",
            "Epoch 23/30\n",
            "172/172 [==============================] - 1s 8ms/step - loss: 0.0795 - accuracy: 0.9744 - val_loss: 0.0059 - val_accuracy: 0.9998\n",
            "Epoch 24/30\n",
            "172/172 [==============================] - 2s 9ms/step - loss: 0.0775 - accuracy: 0.9755 - val_loss: 0.0063 - val_accuracy: 0.9996\n",
            "Epoch 25/30\n",
            "172/172 [==============================] - 1s 8ms/step - loss: 0.0678 - accuracy: 0.9787 - val_loss: 0.0043 - val_accuracy: 0.9998\n",
            "Epoch 26/30\n",
            "172/172 [==============================] - 1s 8ms/step - loss: 0.0659 - accuracy: 0.9787 - val_loss: 0.0041 - val_accuracy: 1.0000\n",
            "Epoch 27/30\n",
            "172/172 [==============================] - 1s 8ms/step - loss: 0.0618 - accuracy: 0.9796 - val_loss: 0.0037 - val_accuracy: 0.9998\n",
            "Epoch 28/30\n",
            "172/172 [==============================] - 1s 8ms/step - loss: 0.0590 - accuracy: 0.9809 - val_loss: 0.0033 - val_accuracy: 0.9998\n",
            "Epoch 29/30\n",
            "172/172 [==============================] - 1s 8ms/step - loss: 0.0548 - accuracy: 0.9823 - val_loss: 0.0040 - val_accuracy: 0.9998\n",
            "Epoch 30/30\n",
            "172/172 [==============================] - 1s 8ms/step - loss: 0.0579 - accuracy: 0.9828 - val_loss: 0.0034 - val_accuracy: 0.9996\n"
          ]
        },
        {
          "output_type": "display_data",
          "data": {
            "text/plain": [
              "<Figure size 432x288 with 1 Axes>"
            ],
            "image/png": "[encoded data removed]"
          },
          "metadata": {
            "needs_background": "light"
          }
        }
      ],
      "source": [
        "if __name__==\"__main__\":\n",
        "    history = my_model.train(epochs=30, verbose=1)\n",
        "    my_model.visualize_accuracy(history)"
      ]
    },
    {
      "cell_type": "code",
      "execution_count": null,
      "metadata": {
        "id": "SSthbsGxm1-z",
        "colab": {
          "base_uri": "https://localhost:8080/"
        },
        "outputId": "4eea3943-04ff-4f6b-9696-426fdb916239"
      },
      "outputs": [
        {
          "output_type": "stream",
          "name": "stdout",
          "text": [
            "test images: (7172, 784)\n",
            "225/225 [==============================] - 1s 2ms/step\n",
            "0.9495259341885108\n"
          ]
        }
      ],
      "source": [
        "if __name__==\"__main__\":\n",
        "    print(\"test images:\" , test_images.shape)\n",
        "    y_pred = my_model.predict(test_images)\n",
        "    accuracy = accuracy_score(test_labels, y_pred)\n",
        "    print(accuracy)"
      ]
    }
  ],
  "metadata": {
    "accelerator": "GPU",
    "colab": {
      "provenance": [],
      "include_colab_link": true
    },
    "kernelspec": {
      "display_name": "Python 3",
      "name": "python3"
    },
    "language_info": {
      "name": "python"
    },
    "gpuClass": "standard"
  },
  "nbformat": 4,
  "nbformat_minor": 0
}